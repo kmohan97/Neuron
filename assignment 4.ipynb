{
 "cells": [
  {
   "cell_type": "markdown",
   "metadata": {},
   "source": [
    "EXTRA)Implement a function longestWord() that takes a list of words and returns the longest one.   \n"
   ]
  },
  {
   "cell_type": "code",
   "execution_count": 10,
   "metadata": {},
   "outputs": [
    {
     "name": "stdout",
     "output_type": "stream",
     "text": [
      "Enter the words giving space inbetween:qw ea s adfaafa fas f\n",
      "adfaafa\n"
     ]
    }
   ],
   "source": [
    "def longestWord():\n",
    "    print(\"Enter the words giving space inbetween\",end=\":\")\n",
    "    p=input()\n",
    "    pl=p.split(\" \")\n",
    "    max=0\n",
    "    plo=\"\"\n",
    "    for i in pl:\n",
    "        if len(i)>max:\n",
    "            max=len(i)\n",
    "            plo=i\n",
    "    return plo\n",
    "p=longestWord()\n",
    "print(p)"
   ]
  },
  {
   "cell_type": "markdown",
   "metadata": {},
   "source": [
    "1)Write a Python Program(with class concepts) to find the area of the triangle using the below formula.  \n",
    "area = (s*(s-a)*(s-b)*(s-c)) ** 0.5  \n",
    "Function to take the length of the sides of triangle from user should be defined in the parent class and function to calculate the area should be defined in subclass."
   ]
  },
  {
   "cell_type": "code",
   "execution_count": 11,
   "metadata": {},
   "outputs": [
    {
     "name": "stdout",
     "output_type": "stream",
     "text": [
      "Enter the sides of the triangle by giving space inbetween:\n",
      "4 5 6\n",
      "6.48074069840786\n"
     ]
    }
   ],
   "source": [
    "from math import pow\n",
    "class parent:\n",
    "    def __init__(self,a,b,c):\n",
    "        self.a=a\n",
    "        self.b=b\n",
    "        self.c=c\n",
    "class child(parent):\n",
    "    def __init__(self,a,b,c):\n",
    "        super().__init__(a,b,c)\n",
    "    def calculate(self):\n",
    "        s=(self.a+self.b+self.c)//2\n",
    "        p=s*(s-self.a)*(s-self.b)*(s-self.c)\n",
    "        print(pow(p,0.5))\n",
    "\n",
    "print(\"Enter the sides of the triangle by giving space inbetween:\")\n",
    "a,b,c=map(int,input().split(\" \"))\n",
    "q=child(a,b,c)\n",
    "q.calculate()"
   ]
  },
  {
   "cell_type": "markdown",
   "metadata": {},
   "source": [
    "2)Write a function filter_long_words() that takes a list of words and an integer n and returns the list of words that are longer than n.\n"
   ]
  },
  {
   "cell_type": "code",
   "execution_count": 1,
   "metadata": {},
   "outputs": [
    {
     "name": "stdout",
     "output_type": "stream",
     "text": [
      "Enter the word:\n",
      "qwe qwe das das dasdas afad\n",
      "ENter the length of the word:\n",
      "3\n",
      "['qwe', 'qwe', 'das', 'das', 'dasdas', 'afad']\n"
     ]
    }
   ],
   "source": [
    "def filter_long_word():\n",
    "    print(\"Enter the word:\")\n",
    "    p=input()\n",
    "    print(\"ENter the length of the word:\")\n",
    "    n=int(input())\n",
    "    pl=p.split(\" \")\n",
    "    new_arr=[]\n",
    "    for i in pl:\n",
    "        if len(i)>=n:\n",
    "            new_arr+=[i]\n",
    "    return new_arr\n",
    "p=filter_long_word()\n",
    "print(p)"
   ]
  },
  {
   "cell_type": "markdown",
   "metadata": {},
   "source": [
    "3)Write a Python program using function concept that maps  list of words into a list of integers representing the lengths of the corresponding words​. \n",
    "Hint: ​If a list [ ab,cde,erty] is passed on to the python function output should come as [2,3,4]  Here 2,3 and 4 are the lengths of the words in the list.\n"
   ]
  },
  {
   "cell_type": "code",
   "execution_count": 3,
   "metadata": {},
   "outputs": [
    {
     "name": "stdout",
     "output_type": "stream",
     "text": [
      "Enter the words in a sentence:\n",
      "aw a da fzc fazc\n",
      "[2, 1, 2, 3, 4]\n"
     ]
    }
   ],
   "source": [
    "def func_concept():\n",
    "    print(\"Enter the words in a sentence:\")\n",
    "    p=input()\n",
    "    pl=p.split(\" \")\n",
    "    new_arr=[]\n",
    "    for i in pl:\n",
    "        new_arr+=[len(i)]\n",
    "    return new_arr\n",
    "p=func_concept()\n",
    "print(p)"
   ]
  },
  {
   "cell_type": "markdown",
   "metadata": {},
   "source": [
    "4)Write a Python function which takes a character (i.e. a string of length 1) and returns True if it is a vowel, False otherwise. "
   ]
  },
  {
   "cell_type": "code",
   "execution_count": 11,
   "metadata": {},
   "outputs": [
    {
     "name": "stdout",
     "output_type": "stream",
     "text": [
      "Enter the character:\n",
      "e\n",
      "True\n"
     ]
    }
   ],
   "source": [
    "def func_vowel():\n",
    "    while True:\n",
    "        print(\"Enter the character:\")\n",
    "        p=input()\n",
    "        if len(p)==1:\n",
    "            if p in [\"a\",\"e\",\"i\",\"o\",\"u\"]:\n",
    "                print(\"True\")\n",
    "            else:\n",
    "                print(\"False\")\n",
    "            break\n",
    "        else:\n",
    "            continue \n",
    "func_vowel()"
   ]
  }
 ],
 "metadata": {
  "kernelspec": {
   "display_name": "Python 3",
   "language": "python",
   "name": "python3"
  },
  "language_info": {
   "codemirror_mode": {
    "name": "ipython",
    "version": 3
   },
   "file_extension": ".py",
   "mimetype": "text/x-python",
   "name": "python",
   "nbconvert_exporter": "python",
   "pygments_lexer": "ipython3",
   "version": "3.7.3"
  }
 },
 "nbformat": 4,
 "nbformat_minor": 2
}
